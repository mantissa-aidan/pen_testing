{
    "cells": [
     {
      "cell_type": "markdown",
      "metadata": {},
      "source": [
       "# GPU-Accelerated WPA/WPA2 Password Cracking\n",
       "\n",
       "This notebook uses hashcat with GPU acceleration to crack WPA/WPA2 passwords from captured handshakes.\n",
       "\n",
       "**Note**: This notebook is for educational purposes only. Only use on networks you own or have permission to test."
      ]
     },
     {
      "cell_type": "markdown",
      "metadata": {},
      "source": [
       "## 1. Setup Environment"
      ]
     },
     {
      "cell_type": "code",
      "execution_count": null,
      "metadata": {},
      "source": [
       "!apt-get update && apt-get install -y hashcat hcxtools"
      ]
     },
     {
      "cell_type": "markdown",
      "metadata": {},
      "source": [
       "## 2. Upload and Convert Capture File"
      ]
     },
     {
      "cell_type": "code",
      "execution_count": null,
      "metadata": {},
      "source": [
       "from google.colab import files\n",
       "print(\"Please upload your .cap file...\")\n",
       "uploaded = files.upload()\n",
       "\n",
       "import os\n",
       "cap_file = list(uploaded.keys())[0]\n",
       "\n",
       "# Convert to hashcat format\n",
       "!hcxpcapngtool -o hash.22000 $cap_file\n",
       "\n",
       "# Verify conversion\n",
       "!ls -l hash.22000"
      ]
     },
     {
      "cell_type": "markdown",
      "metadata": {},
      "source": [
       "## 3. Generate 8-digit Wordlist"
      ]
     },
     {
      "cell_type": "code",
      "execution_count": null,
      "metadata": {},
      "source": [
       "!echo \"Generating 8-digit wordlist...\"\n",
       "!for i in {00000000..99999999}; do echo $i; done > 8digit.txt\n",
       "!echo \"Wordlist size: $(wc -l 8digit.txt)\""
      ]
     },
     {
      "cell_type": "markdown",
      "metadata": {},
      "source": [
       "## 4. Run GPU Cracking"
      ]
     },
     {
      "cell_type": "code",
      "execution_count": null,
      "metadata": {},
      "source": [
       "!echo \"Starting GPU-accelerated password cracking...\"\n",
       "!hashcat -m 22000 -a 0 -w 4 -D 2 --force hash.22000 8digit.txt --status --status-timer 10"
      ]
     },
     {
      "cell_type": "markdown",
      "metadata": {},
      "source": [
       "## 5. Check Results"
      ]
     },
     {
      "cell_type": "code",
      "execution_count": null,
      "metadata": {},
      "source": [
       "!hashcat -m 22000 hash.22000 --show"
      ]
     }
    ],
    "metadata": {
     "accelerator": "GPU",
     "colab": {
      "name": "GPU WPA Password Cracking",
      "provenance": []
     },
     "kernelspec": {
      "display_name": "Python 3",
      "language": "python",
      "name": "python3"
     }
    },
    "nbformat": 4,
    "nbformat_minor": 4
   }